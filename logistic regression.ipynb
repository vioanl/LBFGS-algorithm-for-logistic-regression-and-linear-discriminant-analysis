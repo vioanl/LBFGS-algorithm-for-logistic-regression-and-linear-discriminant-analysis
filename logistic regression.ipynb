{
 "cells": [
  {
   "cell_type": "code",
   "execution_count": 13,
   "metadata": {},
   "outputs": [],
   "source": [
    "#2.1 ερώτημα \n",
    "import matplotlib\n",
    "import matplotlib.pyplot as plt\n",
    "import numpy as np\n",
    "import pandas as pd\n",
    "import sklearn\n",
    "import warnings\n",
    "warnings.filterwarnings('ignore')"
   ]
  },
  {
   "cell_type": "code",
   "execution_count": 14,
   "metadata": {},
   "outputs": [],
   "source": [
    "#Διαβάζουμε μέσω της βιβλιοθήκης pandas το .csv αρχείο\n",
    "covtype = pd.read_csv(\"covtype.csv\")\n"
   ]
  },
  {
   "cell_type": "code",
   "execution_count": 15,
   "metadata": {},
   "outputs": [],
   "source": [
    "#προσθέτουμε στο αρχείο τους τίτλους των στηλών \n",
    "names = ['1', '2', '3', '4', '5', '6', '7', '8', '9', '10','11','12','13','14', '15', '16', '17', '18', '19', '20', '21', '22', '23', '24', '25','26','27','28','29', '30', '31', '32', '33', '34', '35', '36', '37', '38', '39', '40','41','42','43','44', '45', '46', '47', '48', '49', '50', '51', '52', '53', '54', '55']\n",
    "covtype=pd.read_csv(\"covtype.csv\", names=names)"
   ]
  },
  {
   "cell_type": "code",
   "execution_count": 4,
   "metadata": {},
   "outputs": [
    {
     "data": {
      "text/html": [
       "<div>\n",
       "<style scoped>\n",
       "    .dataframe tbody tr th:only-of-type {\n",
       "        vertical-align: middle;\n",
       "    }\n",
       "\n",
       "    .dataframe tbody tr th {\n",
       "        vertical-align: top;\n",
       "    }\n",
       "\n",
       "    .dataframe thead th {\n",
       "        text-align: right;\n",
       "    }\n",
       "</style>\n",
       "<table border=\"1\" class=\"dataframe\">\n",
       "  <thead>\n",
       "    <tr style=\"text-align: right;\">\n",
       "      <th></th>\n",
       "      <th>1</th>\n",
       "      <th>2</th>\n",
       "      <th>3</th>\n",
       "      <th>4</th>\n",
       "      <th>5</th>\n",
       "      <th>6</th>\n",
       "      <th>7</th>\n",
       "      <th>8</th>\n",
       "      <th>9</th>\n",
       "      <th>10</th>\n",
       "      <th>...</th>\n",
       "      <th>46</th>\n",
       "      <th>47</th>\n",
       "      <th>48</th>\n",
       "      <th>49</th>\n",
       "      <th>50</th>\n",
       "      <th>51</th>\n",
       "      <th>52</th>\n",
       "      <th>53</th>\n",
       "      <th>54</th>\n",
       "      <th>55</th>\n",
       "    </tr>\n",
       "  </thead>\n",
       "  <tbody>\n",
       "    <tr>\n",
       "      <th>0</th>\n",
       "      <td>2596</td>\n",
       "      <td>51</td>\n",
       "      <td>3</td>\n",
       "      <td>258</td>\n",
       "      <td>0</td>\n",
       "      <td>510</td>\n",
       "      <td>221</td>\n",
       "      <td>232</td>\n",
       "      <td>148</td>\n",
       "      <td>6279</td>\n",
       "      <td>...</td>\n",
       "      <td>0</td>\n",
       "      <td>0</td>\n",
       "      <td>0</td>\n",
       "      <td>0</td>\n",
       "      <td>0</td>\n",
       "      <td>0</td>\n",
       "      <td>0</td>\n",
       "      <td>0</td>\n",
       "      <td>0</td>\n",
       "      <td>5</td>\n",
       "    </tr>\n",
       "    <tr>\n",
       "      <th>1</th>\n",
       "      <td>2590</td>\n",
       "      <td>56</td>\n",
       "      <td>2</td>\n",
       "      <td>212</td>\n",
       "      <td>-6</td>\n",
       "      <td>390</td>\n",
       "      <td>220</td>\n",
       "      <td>235</td>\n",
       "      <td>151</td>\n",
       "      <td>6225</td>\n",
       "      <td>...</td>\n",
       "      <td>0</td>\n",
       "      <td>0</td>\n",
       "      <td>0</td>\n",
       "      <td>0</td>\n",
       "      <td>0</td>\n",
       "      <td>0</td>\n",
       "      <td>0</td>\n",
       "      <td>0</td>\n",
       "      <td>0</td>\n",
       "      <td>5</td>\n",
       "    </tr>\n",
       "    <tr>\n",
       "      <th>2</th>\n",
       "      <td>2804</td>\n",
       "      <td>139</td>\n",
       "      <td>9</td>\n",
       "      <td>268</td>\n",
       "      <td>65</td>\n",
       "      <td>3180</td>\n",
       "      <td>234</td>\n",
       "      <td>238</td>\n",
       "      <td>135</td>\n",
       "      <td>6121</td>\n",
       "      <td>...</td>\n",
       "      <td>0</td>\n",
       "      <td>0</td>\n",
       "      <td>0</td>\n",
       "      <td>0</td>\n",
       "      <td>0</td>\n",
       "      <td>0</td>\n",
       "      <td>0</td>\n",
       "      <td>0</td>\n",
       "      <td>0</td>\n",
       "      <td>2</td>\n",
       "    </tr>\n",
       "    <tr>\n",
       "      <th>3</th>\n",
       "      <td>2785</td>\n",
       "      <td>155</td>\n",
       "      <td>18</td>\n",
       "      <td>242</td>\n",
       "      <td>118</td>\n",
       "      <td>3090</td>\n",
       "      <td>238</td>\n",
       "      <td>238</td>\n",
       "      <td>122</td>\n",
       "      <td>6211</td>\n",
       "      <td>...</td>\n",
       "      <td>0</td>\n",
       "      <td>0</td>\n",
       "      <td>0</td>\n",
       "      <td>0</td>\n",
       "      <td>0</td>\n",
       "      <td>0</td>\n",
       "      <td>0</td>\n",
       "      <td>0</td>\n",
       "      <td>0</td>\n",
       "      <td>2</td>\n",
       "    </tr>\n",
       "    <tr>\n",
       "      <th>4</th>\n",
       "      <td>2595</td>\n",
       "      <td>45</td>\n",
       "      <td>2</td>\n",
       "      <td>153</td>\n",
       "      <td>-1</td>\n",
       "      <td>391</td>\n",
       "      <td>220</td>\n",
       "      <td>234</td>\n",
       "      <td>150</td>\n",
       "      <td>6172</td>\n",
       "      <td>...</td>\n",
       "      <td>0</td>\n",
       "      <td>0</td>\n",
       "      <td>0</td>\n",
       "      <td>0</td>\n",
       "      <td>0</td>\n",
       "      <td>0</td>\n",
       "      <td>0</td>\n",
       "      <td>0</td>\n",
       "      <td>0</td>\n",
       "      <td>5</td>\n",
       "    </tr>\n",
       "  </tbody>\n",
       "</table>\n",
       "<p>5 rows × 55 columns</p>\n",
       "</div>"
      ],
      "text/plain": [
       "      1    2   3    4    5     6    7    8    9    10 ...  46  47  48  49  50  \\\n",
       "0  2596   51   3  258    0   510  221  232  148  6279 ...   0   0   0   0   0   \n",
       "1  2590   56   2  212   -6   390  220  235  151  6225 ...   0   0   0   0   0   \n",
       "2  2804  139   9  268   65  3180  234  238  135  6121 ...   0   0   0   0   0   \n",
       "3  2785  155  18  242  118  3090  238  238  122  6211 ...   0   0   0   0   0   \n",
       "4  2595   45   2  153   -1   391  220  234  150  6172 ...   0   0   0   0   0   \n",
       "\n",
       "   51  52  53  54  55  \n",
       "0   0   0   0   0   5  \n",
       "1   0   0   0   0   5  \n",
       "2   0   0   0   0   2  \n",
       "3   0   0   0   0   2  \n",
       "4   0   0   0   0   5  \n",
       "\n",
       "[5 rows x 55 columns]"
      ]
     },
     "execution_count": 4,
     "metadata": {},
     "output_type": "execute_result"
    }
   ],
   "source": [
    "#Εμφάνιση των 5 πρώτων δειγμάτων μαζί με τα ονόματα κάθε στήλης\n",
    "covtype.head()"
   ]
  },
  {
   "cell_type": "code",
   "execution_count": 16,
   "metadata": {},
   "outputs": [],
   "source": [
    "x = covtype.drop(['55'],axis=1)\n",
    "y = covtype['55']"
   ]
  },
  {
   "cell_type": "code",
   "execution_count": 17,
   "metadata": {},
   "outputs": [
    {
     "name": "stdout",
     "output_type": "stream",
     "text": [
      "Training_samples:  15120\n",
      "Test_samples:  565892\n"
     ]
    }
   ],
   "source": [
    "#χωρίζουμε το train και test set\n",
    "data = len(covtype)\n",
    "test_samples = data-15120\n",
    "print(\"Training_samples: \",data-test_samples)\n",
    "print(\"Test_samples: \",test_samples)"
   ]
  },
  {
   "cell_type": "code",
   "execution_count": 18,
   "metadata": {},
   "outputs": [],
   "source": [
    "from sklearn.model_selection import train_test_split\n",
    "#χωρίζουμε τα δεδομένα σε (x_train, y_train )και (x_test, y_test)\n",
    "x_train, x_test, y_train, y_test=train_test_split(x,y, test_size=test_samples, random_state=100, shuffle=False)\n"
   ]
  },
  {
   "cell_type": "code",
   "execution_count": 19,
   "metadata": {},
   "outputs": [
    {
     "name": "stderr",
     "output_type": "stream",
     "text": [
      "[Parallel(n_jobs=1)]: Done   7 out of   7 | elapsed:  4.0min finished\n"
     ]
    },
    {
     "name": "stdout",
     "output_type": "stream",
     "text": [
      "LBFGS accuracy on training set: 0.6722883597883598\n",
      "LBFGS accuracy on test set: 0.5503665010284648\n"
     ]
    }
   ],
   "source": [
    "#εκπαιδέυουμε το  logistic regression μοντέλο και εκτυπώνουμε το score για το train set και για το test set\n",
    "from sklearn.linear_model import LogisticRegression\n",
    "model = LogisticRegression(solver='lbfgs', max_iter=10000,tol=1e-3,penalty='l2',C=1.0, verbose=1)\n",
    "model.fit(x_train, y_train)\n",
    "print(\"LBFGS accuracy on training set:\",model.score(x_train,y_train))\n",
    "print(\"LBFGS accuracy on test set:\", model.score(x_test,y_test))"
   ]
  },
  {
   "cell_type": "code",
   "execution_count": 20,
   "metadata": {},
   "outputs": [
    {
     "name": "stderr",
     "output_type": "stream",
     "text": [
      "[Parallel(n_jobs=1)]: Done   7 out of   7 | elapsed:  3.9min finished\n"
     ]
    },
    {
     "name": "stdout",
     "output_type": "stream",
     "text": [
      "LBFGS accuracy on training set: 0.672420634920635\n",
      "LBFGS accuracy on test set: 0.5553144416249037\n"
     ]
    }
   ],
   "source": [
    "#Επαναλαμβάνουμε τη διαδικασία με διαφορετικές παραμέτρους( μειώνω το C)\n",
    "model2 = LogisticRegression(solver='lbfgs', max_iter=10000,tol=1e-3,penalty='l2',C=0.5, verbose=1)\n",
    "model2.fit(x_train, y_train)\n",
    "print(\"LBFGS accuracy on training set:\",model2.score(x_train,y_train))\n",
    "print(\"LBFGS accuracy on test set:\", model2.score(x_test,y_test))"
   ]
  },
  {
   "cell_type": "code",
   "execution_count": 11,
   "metadata": {},
   "outputs": [
    {
     "name": "stderr",
     "output_type": "stream",
     "text": [
      "[Parallel(n_jobs=1)]: Done   7 out of   7 | elapsed:   56.4s finished\n"
     ]
    },
    {
     "name": "stdout",
     "output_type": "stream",
     "text": [
      "LBFGS accuracy on training set: 0.6952380952380952\n",
      "LBFGS accuracy on test set: 0.6896227548719543\n"
     ]
    }
   ],
   "source": [
    "#Επαναλαμβάνουμε τη διαδικασία με διαφορετικές παραμέτρους(μειώνω το max_iter)\n",
    "model3 = LogisticRegression(solver='lbfgs', max_iter=1000,tol=1e-3,penalty='l2',C=1.0, verbose=1)\n",
    "model3.fit(x_train, y_train)\n",
    "print(\"LBFGS accuracy on training set:\",model2.score(x_train,y_train))\n",
    "print(\"LBFGS accuracy on test set:\", model2.score(x_test,y_test))"
   ]
  },
  {
   "cell_type": "code",
   "execution_count": 15,
   "metadata": {},
   "outputs": [
    {
     "name": "stdout",
     "output_type": "stream",
     "text": [
      "newton-cg accuracy on training set: 0.7186507936507937\n",
      "newton-cg accuracy on test set: 0.7123921172237813\n"
     ]
    }
   ],
   "source": [
    "#Επαναλαμβάνουμε τη διαδικασία με τον αλγόριθμο newton-cg\n",
    "model4 = LogisticRegression(solver='newton-cg', max_iter=10000,tol=1e-3,penalty='l2',C=1.0,verbose=1)\n",
    "model4.fit(x_train,y_train)\n",
    "print(\"newton-cg accuracy on training set:\",model3.score(x_train,y_train))\n",
    "print(\"newton-cg accuracy on test set:\", model3.score(x_test,y_test))"
   ]
  },
  {
   "cell_type": "code",
   "execution_count": 16,
   "metadata": {},
   "outputs": [
    {
     "name": "stdout",
     "output_type": "stream",
     "text": [
      "newton-cg accuracy on training set: 0.7186507936507937\n",
      "newton-cg accuracy on test set: 0.7123921172237813\n"
     ]
    }
   ],
   "source": [
    "#Επαναλαμβάνουμε τη διαδικασία με διαφορετικές παραμέτρους( μειώνω το max_iter)\n",
    "model5 = LogisticRegression(solver='newton-cg', max_iter=1000,tol=1e-3,penalty='l2',C=1.0,verbose=1)\n",
    "model5.fit(x_train,y_train)\n",
    "print(\"newton-cg accuracy on training set:\",model3.score(x_train,y_train))\n",
    "print(\"newton-cg accuracy on test set:\", model3.score(x_test,y_test))"
   ]
  },
  {
   "cell_type": "code",
   "execution_count": 17,
   "metadata": {},
   "outputs": [
    {
     "name": "stdout",
     "output_type": "stream",
     "text": [
      "newton-cg accuracy on training set: 0.7186507936507937\n",
      "newton-cg accuracy on test set: 0.7123921172237813\n"
     ]
    }
   ],
   "source": [
    "#Επαναλαμβάνουμε τη διαδικασία με διαφορετικές παραμέτρους( μειώνω το C)\n",
    "model6 = LogisticRegression(solver='newton-cg', max_iter=10000,tol=1e-3,penalty='l2',C=0.5,verbose=1)\n",
    "model6.fit(x_train,y_train)\n",
    "print(\"newton-cg accuracy on training set:\",model3.score(x_train,y_train))\n",
    "print(\"newton-cg accuracy on test set:\", model3.score(x_test,y_test))"
   ]
  },
  {
   "cell_type": "code",
   "execution_count": null,
   "metadata": {},
   "outputs": [],
   "source": []
  },
  {
   "cell_type": "code",
   "execution_count": 20,
   "metadata": {},
   "outputs": [
    {
     "name": "stdout",
     "output_type": "stream",
     "text": [
      "convergence after 361 epochs took 17 seconds\n",
      "convergence after 991 epochs took 49 seconds\n",
      "convergence after 612 epochs took 36 seconds\n",
      "convergence after 414 epochs took 23 seconds\n",
      "convergence after 279 epochs took 16 seconds\n",
      "convergence after 816 epochs took 36 seconds\n",
      "convergence after 744 epochs took 33 seconds\n",
      "saga accuracy on training set: 0.6505291005291005\n"
     ]
    },
    {
     "name": "stderr",
     "output_type": "stream",
     "text": [
      "[Parallel(n_jobs=1)]: Done   7 out of   7 | elapsed:  3.5min finished\n"
     ]
    },
    {
     "name": "stdout",
     "output_type": "stream",
     "text": [
      "saga accuracy on test set: 0.6465314936418963\n"
     ]
    }
   ],
   "source": [
    "#Επαναλαμβάνουμε τη διαδικασία με τον αλγόριθμο sag\n",
    "model7 = LogisticRegression(solver='sag', max_iter=10000,tol=1e-3,penalty='l2',C=1.0, verbose=1)\n",
    "model.fit(x_train,y_train)\n",
    "print(\"saga accuracy on training set:\",model5.score(x_train,y_train))\n",
    "print(\"saga accuracy on test set:\", model5.score(x_test,y_test))"
   ]
  },
  {
   "cell_type": "code",
   "execution_count": 22,
   "metadata": {},
   "outputs": [
    {
     "name": "stdout",
     "output_type": "stream",
     "text": [
      "convergence after 361 epochs took 15 seconds\n",
      "convergence after 991 epochs took 42 seconds\n",
      "convergence after 612 epochs took 24 seconds\n",
      "convergence after 414 epochs took 19 seconds\n",
      "convergence after 277 epochs took 14 seconds\n",
      "convergence after 816 epochs took 47 seconds\n",
      "convergence after 744 epochs took 35 seconds\n",
      "saga accuracy on training set: 0.6505291005291005\n"
     ]
    },
    {
     "name": "stderr",
     "output_type": "stream",
     "text": [
      "[Parallel(n_jobs=1)]: Done   7 out of   7 | elapsed:  3.3min finished\n"
     ]
    },
    {
     "name": "stdout",
     "output_type": "stream",
     "text": [
      "saga accuracy on test set: 0.6465314936418963\n"
     ]
    }
   ],
   "source": [
    "#αλλάζουμε κάποιες παραμέτρους(μειώνω το max_iter)\n",
    "model8 = LogisticRegression(solver='sag', max_iter=1000,tol=1e-3,penalty='l2',C=1.0, verbose=1)\n",
    "model8.fit(x_train,y_train)\n",
    "print(\"saga accuracy on training set:\",model6.score(x_train,y_train))\n",
    "print(\"saga accuracy on test set:\", model6.score(x_test,y_test))"
   ]
  },
  {
   "cell_type": "code",
   "execution_count": 21,
   "metadata": {},
   "outputs": [
    {
     "name": "stdout",
     "output_type": "stream",
     "text": [
      "convergence after 361 epochs took 18 seconds\n",
      "convergence after 991 epochs took 41 seconds\n",
      "convergence after 612 epochs took 25 seconds\n",
      "convergence after 414 epochs took 18 seconds\n",
      "convergence after 278 epochs took 10 seconds\n",
      "convergence after 816 epochs took 33 seconds\n",
      "convergence after 744 epochs took 31 seconds\n",
      "sag accuracy on training set: 0.6505291005291005\n"
     ]
    },
    {
     "name": "stderr",
     "output_type": "stream",
     "text": [
      "[Parallel(n_jobs=1)]: Done   7 out of   7 | elapsed:  2.9min finished\n"
     ]
    },
    {
     "name": "stdout",
     "output_type": "stream",
     "text": [
      "sag accuracy on test set: 0.6465314936418963\n"
     ]
    }
   ],
   "source": [
    "#αλλάζουμε κάποιες παραμέτρους(μειώνω το C)\n",
    "model9 = LogisticRegression(solver='sag', max_iter=10000,tol=1e-3,penalty='l2',C=0.5, verbose=1)\n",
    "model9.fit(x_train,y_train)\n",
    "print(\"sag accuracy on training set:\",model6.score(x_train,y_train))\n",
    "print(\"sag accuracy on test set:\", model6.score(x_test,y_test))"
   ]
  },
  {
   "cell_type": "code",
   "execution_count": 23,
   "metadata": {},
   "outputs": [
    {
     "name": "stdout",
     "output_type": "stream",
     "text": [
      "convergence after 361 epochs took 26 seconds\n",
      "convergence after 991 epochs took 65 seconds\n",
      "convergence after 612 epochs took 43 seconds\n",
      "convergence after 413 epochs took 38 seconds\n",
      "convergence after 277 epochs took 19 seconds\n",
      "convergence after 815 epochs took 69 seconds\n",
      "convergence after 744 epochs took 54 seconds\n",
      "sag accuracy on training set: 0.6505291005291005\n"
     ]
    },
    {
     "name": "stderr",
     "output_type": "stream",
     "text": [
      "[Parallel(n_jobs=1)]: Done   7 out of   7 | elapsed:  5.2min finished\n"
     ]
    },
    {
     "name": "stdout",
     "output_type": "stream",
     "text": [
      "sag accuracy on test set: 0.6465314936418963\n"
     ]
    }
   ],
   "source": [
    "#αλλάζουμε κάποιες παραμέτρους(θέτω penalty=l1)\n",
    "model10 = LogisticRegression(solver='saga', max_iter=10000,tol=1e-3,penalty='l1',C=0.5, verbose=1)\n",
    "model10.fit(x_train,y_train)\n",
    "print(\"sag accuracy on training set:\",model6.score(x_train,y_train))\n",
    "print(\"sag accuracy on test set:\", model6.score(x_test,y_test))"
   ]
  },
  {
   "cell_type": "code",
   "execution_count": 12,
   "metadata": {},
   "outputs": [
    {
     "name": "stdout",
     "output_type": "stream",
     "text": [
      "LDA accuracy on training set: 0.6501984126984127\n",
      "LDA accuracy on test set: 0.581252253080093\n"
     ]
    }
   ],
   "source": [
    "#2.3 ερώτημα \n",
    "from sklearn.discriminant_analysis import LinearDiscriminantAnalysis\n",
    "model11 = LinearDiscriminantAnalysis()\n",
    "model11.fit(x_train,y_train)\n",
    "print(\"LDA accuracy on training set:\",model11.score(x_train,y_train))\n",
    "print(\"LDA accuracy on test set:\",model11.score(x_test,y_test))"
   ]
  },
  {
   "cell_type": "code",
   "execution_count": null,
   "metadata": {},
   "outputs": [],
   "source": []
  }
 ],
 "metadata": {
  "kernelspec": {
   "display_name": "Python 3",
   "language": "python",
   "name": "python3"
  },
  "language_info": {
   "codemirror_mode": {
    "name": "ipython",
    "version": 3
   },
   "file_extension": ".py",
   "mimetype": "text/x-python",
   "name": "python",
   "nbconvert_exporter": "python",
   "pygments_lexer": "ipython3",
   "version": "3.7.1"
  }
 },
 "nbformat": 4,
 "nbformat_minor": 2
}
